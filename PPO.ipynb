{
  "nbformat": 4,
  "nbformat_minor": 0,
  "metadata": {
    "colab": {
      "name": "PPO .ipynb",
      "provenance": [],
      "collapsed_sections": [],
      "authorship_tag": "ABX9TyOmQ6lag6YD6qNsYKC+Z4/S",
      "include_colab_link": true
    },
    "kernelspec": {
      "name": "python3",
      "display_name": "Python 3"
    },
    "language_info": {
      "name": "python"
    }
  },
  "cells": [
    {
      "cell_type": "markdown",
      "metadata": {
        "id": "view-in-github",
        "colab_type": "text"
      },
      "source": [
        "<a href=\"https://colab.research.google.com/github/carsondenison/proximal-policy-optimization/blob/main/PPO.ipynb\" target=\"_parent\"><img src=\"https://colab.research.google.com/assets/colab-badge.svg\" alt=\"Open In Colab\"/></a>"
      ]
    },
    {
      "cell_type": "code",
      "metadata": {
        "id": "BWDmBhbbgCOb",
        "colab": {
          "base_uri": "https://localhost:8080/"
        },
        "outputId": "bd48ec82-91b6-4c4c-c47d-4dea8b740ac7"
      },
      "source": [
        "!pip install --quiet \"torch\" \"pytorch-lightning\" \"gym\""
      ],
      "execution_count": 1,
      "outputs": [
        {
          "output_type": "stream",
          "name": "stdout",
          "text": [
            "\u001b[K     |████████████████████████████████| 525 kB 5.2 MB/s \n",
            "\u001b[K     |████████████████████████████████| 829 kB 32.3 MB/s \n",
            "\u001b[K     |████████████████████████████████| 596 kB 46.1 MB/s \n",
            "\u001b[K     |████████████████████████████████| 332 kB 50.8 MB/s \n",
            "\u001b[K     |████████████████████████████████| 132 kB 50.6 MB/s \n",
            "\u001b[K     |████████████████████████████████| 1.1 MB 34.2 MB/s \n",
            "\u001b[K     |████████████████████████████████| 160 kB 40.7 MB/s \n",
            "\u001b[K     |████████████████████████████████| 192 kB 46.2 MB/s \n",
            "\u001b[K     |████████████████████████████████| 271 kB 44.9 MB/s \n",
            "\u001b[?25h  Building wheel for future (setup.py) ... \u001b[?25l\u001b[?25hdone\n"
          ]
        }
      ]
    },
    {
      "cell_type": "markdown",
      "metadata": {
        "id": "nBEWS00tg-N-"
      },
      "source": [
        "Step 0: Import the libraries we'll need"
      ]
    },
    {
      "cell_type": "code",
      "metadata": {
        "id": "NMJD_V7Xg8Cw"
      },
      "source": [
        "import random\n",
        "from typing import List, Tuple, Iterable\n",
        "from collections import namedtuple, deque\n",
        "\n",
        "import gym\n",
        "import numpy as np\n",
        "import torch\n",
        "import torch.nn as nn\n",
        "from torch import Tensor\n",
        "# import pytorch_lightning as pl\n",
        "\n",
        "# Implements: https://arxiv.org/pdf/1707.06347.pdf"
      ],
      "execution_count": 2,
      "outputs": []
    },
    {
      "cell_type": "markdown",
      "metadata": {
        "id": "xR-76LzFrP8a"
      },
      "source": [
        "Step 1: Create a dataset to store experiences"
      ]
    },
    {
      "cell_type": "code",
      "metadata": {
        "id": "DREoneklrsDp"
      },
      "source": [
        "Experience = namedtuple('Experience', 'state action reward done new_state')\n",
        "\n",
        "class ReplayBuffer():\n",
        "    '''\n",
        "        Buffer to hold Experiences for training\n",
        "    '''\n",
        "    def __init__(self):\n",
        "        self.buffer:List[Experience] = []\n",
        "    \n",
        "    def append(self, x):\n",
        "        self.buffer.append(x)\n",
        "    \n",
        "    def clear(self):\n",
        "        self.buffer = []\n",
        "\n",
        "    def to_batch(self) -> Tuple[Tensor, Tensor, Tensor, Tensor, Tensor]:\n",
        "        states, actions, rewards, dones, new_states = zip(*self.buffer)\n",
        "        states = torch.tensor(states, dtype=torch.float32)\n",
        "        actions = torch.tensor(actions, dtype=torch.int64)\n",
        "        rewards = torch.tensor(rewards, dtype=torch.float32)\n",
        "        dones = torch.tensor(dones, dtype=torch.bool)\n",
        "        new_states = torch.tensor(new_states, dtype=torch.float32)\n",
        "        return states, actions, rewards, dones, new_states"
      ],
      "execution_count": 3,
      "outputs": []
    },
    {
      "cell_type": "markdown",
      "metadata": {
        "id": "D4Y0Jq51syeH"
      },
      "source": [
        "Step 2: Create an actor that can interact with the environment"
      ]
    },
    {
      "cell_type": "code",
      "metadata": {
        "id": "9T7CGGbDs2RP"
      },
      "source": [
        "class Actor():\n",
        "    '''\n",
        "        Class which can interact with the environment\n",
        "    '''\n",
        "    def __init__(self, env:gym.Env, replay_buffer:ReplayBuffer, pi:nn.Module):\n",
        "        self.env = env\n",
        "        self.buffer = buffer\n",
        "        self.pi = pi\n",
        "        self.state = self.env.reset() # self.state is a numpy array\n",
        "\n",
        "    def get_action(self) -> int:\n",
        "        '''\n",
        "            Samples the policy to get an action given self.state\n",
        "        '''\n",
        "        pi_logits = self.pi(torch.tensor(self.state))\n",
        "        policy = torch.distributions.categorical.Categorical(logits=pi_logits)\n",
        "        action = policy.sample()\n",
        "        return action.item()\n",
        "\n",
        "    @torch.no_grad()\n",
        "    def play_step(self) -> None:\n",
        "        '''\n",
        "            Play one step of the environment, and add it to the buffer\n",
        "        '''\n",
        "        action = self.get_action()\n",
        "        new_state, reward, done, _ = self.env.step(action)\n",
        "        exp = Experience(self.state, action, reward, done, new_state)\n",
        "        self.buffer.append(exp)\n",
        "        self.state = new_state\n",
        "        if done:\n",
        "            self.state = self.env.reset()\n",
        "        return done\n"
      ],
      "execution_count": 4,
      "outputs": []
    },
    {
      "cell_type": "markdown",
      "metadata": {
        "id": "JJbFYw2r0rUv"
      },
      "source": [
        "Step 3: Define the neural network architecture for policy and advantage"
      ]
    },
    {
      "cell_type": "code",
      "metadata": {
        "id": "qnF_oxY20xNa"
      },
      "source": [
        "class MLP(nn.Module):\n",
        "    '''\n",
        "        Simple MLP, as described in https://arxiv.org/pdf/1707.06347.pdf\n",
        "    '''\n",
        "    def __init__(self, in_size, out_size, hidden_size=64):\n",
        "        super().__init__()\n",
        "        self.net = nn.Sequential(\n",
        "            nn.Linear(in_size, hidden_size),\n",
        "            nn.Tanh(),\n",
        "            nn.Linear(hidden_size, out_size),\n",
        "        )\n",
        "\n",
        "    def forward(self, state):\n",
        "        return self.net(state.float())"
      ],
      "execution_count": 5,
      "outputs": []
    },
    {
      "cell_type": "markdown",
      "metadata": {
        "id": "FAgnACB_ZJYO"
      },
      "source": [
        "Step 4: Define an advantage estimator function. This is built from a value network and a reward_to_go calculator\n",
        "\n"
      ]
    },
    {
      "cell_type": "code",
      "metadata": {
        "id": "Rc8NakkUZQIc"
      },
      "source": [
        "def reward_to_go(rewards:Tensor, gamma:float) -> Tensor:\n",
        "    '''\n",
        "        Calculates the rewards_to_go for a trajectory\n",
        "\n",
        "        Args:\n",
        "            rewards: (T, 1) tensor of rewards for each step\n",
        "            gamma: discount factor for each step\n",
        "        Returns:\n",
        "            rewards_to_go: Discounted reward_to_go for each reward in rewards\n",
        "    '''\n",
        "    if len(rewards) <= 1:\n",
        "        return rewards\n",
        "    rewards_to_go = torch.zeros_like(rewards, dtype=torch.float32)\n",
        "    for i in range(-1, -len(rewards)-1, -1):\n",
        "        rewards_to_go[i] = rewards[i] + gamma * rewards_to_go[i + 1]\n",
        "    return rewards_to_go  \n",
        "\n",
        "# quick tests for reward_to_go\n",
        "rtg = reward_to_go(torch.tensor([1, 1, 1,]), 1)\n",
        "assert torch.all(torch.eq(rtg, torch.tensor([3, 2, 1]))), str(rtg)\n",
        "rtg2 = reward_to_go(torch.tensor([1, 1, 1]), 0.5)\n",
        "assert torch.all(torch.eq(rtg2, torch.tensor([1.75, 1.5, 1]))), str(rtg2)\n",
        "rtg3 = reward_to_go(torch.tensor([]), 1)\n",
        "assert torch.all(torch.eq(rtg3, torch.tensor([])))\n",
        "rtg4 = reward_to_go(torch.tensor([1]), 0.5)\n",
        "assert torch.eq(rtg4, torch.tensor(1)), str(rtg4)"
      ],
      "execution_count": 6,
      "outputs": []
    },
    {
      "cell_type": "code",
      "metadata": {
        "id": "7BiCR784255h"
      },
      "source": [
        "class FakeValue(nn.Module):\n",
        "    '''\n",
        "        torch.nn.Module that returns the identiy. Useful for testing\n",
        "    '''\n",
        "    def __init__(self):\n",
        "        super().__init__()\n",
        "\n",
        "    def forward(self, x):\n",
        "        return x\n",
        "\n",
        "def estimate_advantage(states:Tensor, rewards:Tensor, value_net:nn.Module, gamma:float, final_state:Tensor=None) -> Tensor:\n",
        "    '''\n",
        "        Compute advantage estimate for each step in a trajectory\n",
        "\n",
        "        Args:\n",
        "            rewards: Reward given by each step in the trajectory. Size (T, 1)\n",
        "            states: State vectors for trajectory. Size (T, state_size)\n",
        "            v_net: Trainable network which predicts the value V(s) of a state\n",
        "            gamma: Discount factor. Assume lambda = 1 from GAE-Lambda\n",
        "            final_state: if given final_state, then non-terminal so use v(final_state). If not given, assume terminal, v(s_T) = 0\n",
        "        Returns:\n",
        "            advantages: The estimated advantage for each step in the trajectory\n",
        "    '''\n",
        "    T = len(rewards) + 1\n",
        "\n",
        "    # Is reward-to-go correct when last state is terminal?\n",
        "    assert len(rewards) == len(states), 'len(rewards) doesnt match len(states)'\n",
        "    values = value_net(states) # Shape (T, 1)\n",
        "    # If we're given a final state, non-terminal so compute its value\n",
        "    if final_state is not None:\n",
        "        final_value = value_net(final_state)\n",
        "    # else, terminal state, gets value of 0\n",
        "    else:\n",
        "        final_value = 0\n",
        "    rewards_to_go = reward_to_go(rewards, gamma)\n",
        "    discounted_final_values = [final_value * (gamma) ** n for n in reversed(range(1, T))]\n",
        "    discounted_final_values = torch.tensor(discounted_final_values)\n",
        "    advantages = rewards_to_go - values + discounted_final_values\n",
        "    return advantages\n",
        "\n",
        "fake_value_net = FakeValue()\n",
        "r = torch.tensor([1,1])\n",
        "s = torch.tensor([1,1])\n",
        "\n",
        "# Test that discounting of values works with gamma = 1, done = True\n",
        "adv = estimate_advantage(r, s, fake_value_net, 1)\n",
        "assert torch.allclose(adv, torch.tensor([1,0], dtype=torch.float32)), adv\n",
        "# Test that discounting of values works with gamma = 0.3, done = True\n",
        "adv2 = estimate_advantage(r, s, fake_value_net, 0.3)\n",
        "assert torch.allclose(adv2, torch.tensor([0.3,0], dtype=torch.float32)), adv2\n",
        "\n",
        "final_state = torch.tensor([2])\n",
        "# Test that this works with a final_state\n",
        "adv3 = estimate_advantage(r, s, fake_value_net, 0.5, final_state)\n",
        "assert torch.allclose(adv3, torch.tensor([1,1], dtype=torch.float32)), adv3"
      ],
      "execution_count": 7,
      "outputs": []
    },
    {
      "cell_type": "markdown",
      "metadata": {
        "id": "ikqk4irB2AIG"
      },
      "source": [
        "Step 5: Define the clipped loss function"
      ]
    },
    {
      "cell_type": "code",
      "metadata": {
        "id": "tAIH_Kur4gzl"
      },
      "source": [
        "def clipped_loss(states:Tensor, actions:Tensor, advantages:Tensor, pi_old:Tensor, pi_net:nn.Module, epsilon=0.2) -> Tensor:\n",
        "    '''\n",
        "        PPO Clipped Loss\n",
        "\n",
        "        Args:\n",
        "            states: The states from a given trajectory T\n",
        "            advantages: Advantage estimates for T, based on GAE-Lambda\n",
        "            pi_old: Probability distribution for pi(a|s) used to generate the trajectory\n",
        "            pi_net: Most up to date policy network\n",
        "            epsilon: Clipping hyperparameter for loss. See page 3 - https://arxiv.org/pdf/1707.06347.pdf\n",
        "        Returns:\n",
        "            loss: L_clip used to optimize the policy network\n",
        "    '''\n",
        "    pi = pi_net(states).gather(1, actions[:, None])\n",
        "    ratio = torch.div(pi, pi_old)\n",
        "    unclipped = ratio * advantages\n",
        "    clipped = torch.clamp(ratio, 1-epsilon, 1+epsilon) * advantages\n",
        "    elementwise_mins = torch.minimum(unclipped, clipped)\n",
        "    loss = torch.mean(elementwise_mins)\n",
        "    return loss"
      ],
      "execution_count": 8,
      "outputs": []
    },
    {
      "cell_type": "markdown",
      "metadata": {
        "id": "cV6r7gklSAho"
      },
      "source": [
        "Step 6: Main Training Loop\n"
      ]
    },
    {
      "cell_type": "code",
      "metadata": {
        "colab": {
          "base_uri": "https://localhost:8080/"
        },
        "id": "NtUZi_RW-10N",
        "outputId": "a1af5a1e-ab66-4111-861e-73e5dc8207fd"
      },
      "source": [
        "# Set up the environment\n",
        "env = gym.make('CartPole-v0')\n",
        "state_size = env.observation_space.shape[0]\n",
        "action_size = env.action_space.n\n",
        "\n",
        "# Build the neural networks and optimizers\n",
        "pi = MLP(state_size, action_size)\n",
        "v = MLP(state_size, 1)\n",
        "\n",
        "pi_optimizer = torch.optim.Adam(pi.parameters(), lr=5e-3)\n",
        "v_optimizer = torch.optim.Adam(v.parameters(), lr=5e-3)\n",
        "v_loss_fn = nn.MSELoss()\n",
        "\n",
        "# Set up the buffer and actor\n",
        "buffer = ReplayBuffer()\n",
        "actor = Actor(env, buffer, pi)\n",
        "\n",
        "# Hyperparameters\n",
        "total_epochs = 301\n",
        "longest_episode_length = 0\n",
        "gamma = 0.99\n",
        "K_pi = 20\n",
        "K_v = 20\n",
        "\n",
        "for epoch in range(total_epochs):\n",
        "    # Play up to 200 steps, stopping if terminal state reached\n",
        "    # In a real implementation, this would be done many times in parallel with many actors\n",
        "    # That serves to reduce variance and overfitting to any individual trajectory\n",
        "    # We intentionally take only one trajectory at a time to make things clearer\n",
        "    for episode_length in range(200):\n",
        "        done = actor.play_step()\n",
        "        if done:\n",
        "            break\n",
        "\n",
        "    # Log epoch information to the console\n",
        "    if epoch % 100 == 0:\n",
        "        print(f'epoch: {epoch}')\n",
        "    if episode_length >= longest_episode_length:\n",
        "        longest_episode_length = episode_length\n",
        "        print(f'episode: {epoch} length: {longest_episode_length}')\n",
        "\n",
        "    # Unpack replay buffer into arrays and reset the buffer\n",
        "    states, actions, rewards, _, new_states = buffer.to_batch()\n",
        "    buffer.clear()\n",
        "\n",
        "    # Compute the information we'll need to feed the two loss functions\n",
        "    if done:\n",
        "        final_state = None\n",
        "    else:\n",
        "        final_state = new_states[-1]\n",
        "    advantages = estimate_advantage(states, rewards, v, gamma, final_state).detach()\n",
        "    pi_old = pi(states).gather(1, actions[:, None]).detach()\n",
        "    rtg = reward_to_go(rewards, gamma)\n",
        "\n",
        "    # Update policy network for K steps\n",
        "    # A full implementation have a KL divergence check here to stop updating policy network and get another trajectory when the policy changes too much\n",
        "    for _ in range(K_pi):\n",
        "        pi_loss = clipped_loss(states, actions, advantages, pi_old, pi)\n",
        "        pi_optimizer.zero_grad()\n",
        "        pi_loss.backward()\n",
        "        pi_optimizer.step()\n",
        "\n",
        "    # Update Value Network V(s_t) should be reward_to_go_t. MSE Loss\n",
        "    for _ in range(K_v):\n",
        "        values = v(states).squeeze()\n",
        "        v_loss = v_loss_fn(values, rtg)\n",
        "        v_optimizer.zero_grad()\n",
        "        v_loss.backward()\n",
        "        v_optimizer.step()"
      ],
      "execution_count": 14,
      "outputs": [
        {
          "output_type": "stream",
          "name": "stdout",
          "text": [
            "epoch: 0\n",
            "episode: 0 length: 53\n",
            "episode: 4 length: 72\n",
            "episode: 5 length: 76\n",
            "episode: 53 length: 121\n",
            "episode: 54 length: 199\n",
            "episode: 55 length: 199\n",
            "episode: 56 length: 199\n",
            "episode: 59 length: 199\n",
            "episode: 69 length: 199\n",
            "episode: 94 length: 199\n",
            "epoch: 100\n",
            "episode: 111 length: 199\n",
            "episode: 122 length: 199\n",
            "episode: 125 length: 199\n",
            "episode: 128 length: 199\n",
            "episode: 129 length: 199\n",
            "episode: 133 length: 199\n",
            "episode: 136 length: 199\n",
            "episode: 138 length: 199\n",
            "episode: 142 length: 199\n",
            "episode: 144 length: 199\n",
            "episode: 161 length: 199\n",
            "episode: 164 length: 199\n",
            "episode: 165 length: 199\n",
            "episode: 167 length: 199\n",
            "episode: 169 length: 199\n",
            "episode: 170 length: 199\n",
            "episode: 171 length: 199\n",
            "episode: 174 length: 199\n",
            "episode: 181 length: 199\n",
            "episode: 195 length: 199\n",
            "epoch: 200\n",
            "epoch: 300\n"
          ]
        }
      ]
    }
  ]
}